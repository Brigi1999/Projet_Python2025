{
  "nbformat": 4,
  "nbformat_minor": 0,
  "metadata": {
    "colab": {
      "provenance": [],
      "authorship_tag": "ABX9TyPeGV3hIgVl57rBfxknqoIY",
      "include_colab_link": true
    },
    "kernelspec": {
      "name": "python3",
      "display_name": "Python 3"
    },
    "language_info": {
      "name": "python"
    }
  },
  "cells": [
    {
      "cell_type": "markdown",
      "metadata": {
        "id": "view-in-github",
        "colab_type": "text"
      },
      "source": [
        "<a href=\"https://colab.research.google.com/github/Brigi1999/Projet_Python2025/blob/main/Web_scraping.ipynb\" target=\"_parent\"><img src=\"https://colab.research.google.com/assets/colab-badge.svg\" alt=\"Open In Colab\"/></a>"
      ]
    },
    {
      "cell_type": "code",
      "execution_count": 4,
      "metadata": {
        "id": "gPHBEOpF8rnj"
      },
      "outputs": [],
      "source": [
        "from bs4 import BeautifulSoup\n",
        "import requests\n",
        "import lxml\n",
        "import time\n"
      ]
    },
    {
      "cell_type": "code",
      "source": [
        "url= \"https://www.google.com/search?q=wikipedia&oq=wikipedia&gs_lcrp=EgZjaHJvbWUyBggAEEUYOdIBCDQxNjNqMGo0qAIAsAIB&sourceid=chrome&ie=UTF-8\""
      ],
      "metadata": {
        "id": "NEHtQGGY88Ax"
      },
      "execution_count": 29,
      "outputs": []
    },
    {
      "cell_type": "code",
      "source": [
        "source = requests.get(url)\n",
        "print(source.status_code)"
      ],
      "metadata": {
        "colab": {
          "base_uri": "https://localhost:8080/"
        },
        "id": "I0tUw3qk95HZ",
        "outputId": "01a79405-87ca-4288-dd39-de7729e87b45"
      },
      "execution_count": 30,
      "outputs": [
        {
          "output_type": "stream",
          "name": "stdout",
          "text": [
            "200\n"
          ]
        }
      ]
    },
    {
      "cell_type": "code",
      "source": [
        "def name_book() :\n",
        "  r = requests.get(\"https://www.google.com/search?q=wikipedia&oq=wikipedia&gs_lcrp=EgZjaHJvbWUyBggAEEUYOdIBCDQxNjNqMGo0qAIAsAIB&sourceid=chrome&ie=UTF-8\")\n",
        "  soup = BeautifulSoup(r.content, \"hmtl.parser\")\n",
        "  print(soup)\n",
        "  livre = soup.find_all('link', href='/xjs/_/js/k=xjs.s.fr.RkXq-CDOXXI.2018.O/am=AAAAAAAAAAAAAAAAAAAAAAAAAAA…,sy1m4,sy2d8,sy1ry,sy2ct,sy2ec,sy1m7,sy2ed,sy1os,sy1ot,epYOx,RagDlc?xjs=s4')\n",
        "  print(len(livre))"
      ],
      "metadata": {
        "id": "G7sPkTlECewV"
      },
      "execution_count": 31,
      "outputs": []
    }
  ]
}